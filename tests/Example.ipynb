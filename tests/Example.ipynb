{
 "cells": [
  {
   "cell_type": "code",
   "execution_count": null,
   "id": "3c40d844",
   "metadata": {},
   "outputs": [],
   "source": [
    "%pip install -i https://test.pypi.org/simple/ phdu[all] -U"
   ]
  },
  {
   "cell_type": "markdown",
   "id": "d5c105c0",
   "metadata": {},
   "source": [
    "# Proyect structure"
   ]
  },
  {
   "cell_type": "markdown",
   "id": "4231932f",
   "metadata": {},
   "source": [
    "Check the tidypath examples:\n",
    "- [Defining functions](https://github.com/medinajorge/tidypath/blob/master/tests/analysis/variable1/measurement1.py)\n",
    "- [Calling functions & modifying args](https://github.com/medinajorge/tidypath/blob/master/tests/Example.ipynb)"
   ]
  },
  {
   "cell_type": "code",
   "execution_count": 1,
   "id": "579aba98",
   "metadata": {},
   "outputs": [
    {
     "ename": "ImportError",
     "evalue": "cannot import name 'stats' from partially initialized module 'phdu' (most likely due to a circular import) (/home/jorgemedina/anaconda3/envs/latest/lib/python3.10/site-packages/phdu/__init__.py)",
     "output_type": "error",
     "traceback": [
      "\u001b[0;31m---------------------------------------------------------------------------\u001b[0m",
      "\u001b[0;31mImportError\u001b[0m                               Traceback (most recent call last)",
      "Input \u001b[0;32mIn [1]\u001b[0m, in \u001b[0;36m<cell line: 1>\u001b[0;34m()\u001b[0m\n\u001b[0;32m----> 1\u001b[0m \u001b[38;5;28;01mfrom\u001b[39;00m \u001b[38;5;21;01mphdu\u001b[39;00m \u001b[38;5;28;01mimport\u001b[39;00m savedata, savefig, add_arg, modify_arg, delete_arg\n",
      "File \u001b[0;32m~/anaconda3/envs/latest/lib/python3.10/site-packages/phdu/__init__.py:4\u001b[0m, in \u001b[0;36m<module>\u001b[0;34m\u001b[0m\n\u001b[1;32m      2\u001b[0m \u001b[38;5;28;01mfrom\u001b[39;00m \u001b[38;5;21;01m.\u001b[39;00m \u001b[38;5;28;01mimport\u001b[39;00m fmt\n\u001b[1;32m      3\u001b[0m \u001b[38;5;28;01mfrom\u001b[39;00m \u001b[38;5;21;01m.\u001b[39;00m \u001b[38;5;28;01mimport\u001b[39;00m storage\n\u001b[0;32m----> 4\u001b[0m \u001b[38;5;28;01mfrom\u001b[39;00m \u001b[38;5;21;01m.\u001b[39;00m \u001b[38;5;28;01mimport\u001b[39;00m stats\n\u001b[1;32m      5\u001b[0m \u001b[38;5;28;01mfrom\u001b[39;00m \u001b[38;5;21;01m.\u001b[39;00m\u001b[38;5;21;01mstats\u001b[39;00m\u001b[38;5;21;01m.\u001b[39;00m\u001b[38;5;21;01mrtopy\u001b[39;00m \u001b[38;5;28;01mimport\u001b[39;00m resample\n\u001b[1;32m      6\u001b[0m \u001b[38;5;28;01mfrom\u001b[39;00m \u001b[38;5;21;01m.\u001b[39;00m\u001b[38;5;21;01mstats\u001b[39;00m\u001b[38;5;21;01m.\u001b[39;00m\u001b[38;5;21;01mtest\u001b[39;00m \u001b[38;5;28;01mimport\u001b[39;00m permutation\n",
      "\u001b[0;31mImportError\u001b[0m: cannot import name 'stats' from partially initialized module 'phdu' (most likely due to a circular import) (/home/jorgemedina/anaconda3/envs/latest/lib/python3.10/site-packages/phdu/__init__.py)"
     ]
    }
   ],
   "source": [
    "from phdu import savedata, savefig, add_arg, modify_arg, delete_arg"
   ]
  },
  {
   "cell_type": "markdown",
   "id": "b6e7ef01",
   "metadata": {},
   "source": [
    "# Confidence interval"
   ]
  },
  {
   "cell_type": "code",
   "execution_count": 1,
   "id": "224a77a1",
   "metadata": {},
   "outputs": [
    {
     "ename": "ImportError",
     "evalue": "cannot import name 'plots' from partially initialized module 'phdu' (most likely due to a circular import) (/home/jorgemedina/anaconda3/envs/latest/lib/python3.10/site-packages/phdu/__init__.py)",
     "output_type": "error",
     "traceback": [
      "\u001b[0;31m---------------------------------------------------------------------------\u001b[0m",
      "\u001b[0;31mImportError\u001b[0m                               Traceback (most recent call last)",
      "Input \u001b[0;32mIn [1]\u001b[0m, in \u001b[0;36m<cell line: 2>\u001b[0;34m()\u001b[0m\n\u001b[1;32m      1\u001b[0m \u001b[38;5;28;01mimport\u001b[39;00m \u001b[38;5;21;01mnumpy\u001b[39;00m \u001b[38;5;28;01mas\u001b[39;00m \u001b[38;5;21;01mnp\u001b[39;00m\n\u001b[0;32m----> 2\u001b[0m \u001b[38;5;28;01mfrom\u001b[39;00m \u001b[38;5;21;01mphdu\u001b[39;00m \u001b[38;5;28;01mimport\u001b[39;00m resample\n\u001b[1;32m      3\u001b[0m \u001b[38;5;28;01mfrom\u001b[39;00m \u001b[38;5;21;01mphdu\u001b[39;00m\u001b[38;5;21;01m.\u001b[39;00m\u001b[38;5;21;01mstats\u001b[39;00m \u001b[38;5;28;01mimport\u001b[39;00m plots\n",
      "File \u001b[0;32m~/anaconda3/envs/latest/lib/python3.10/site-packages/phdu/__init__.py:3\u001b[0m, in \u001b[0;36m<module>\u001b[0;34m\u001b[0m\n\u001b[1;32m      1\u001b[0m \u001b[38;5;28;01mfrom\u001b[39;00m \u001b[38;5;21;01mtidypath\u001b[39;00m \u001b[38;5;28;01mimport\u001b[39;00m savedata, savefig, add_arg, modify_arg, delete_arg\n\u001b[1;32m      2\u001b[0m \u001b[38;5;28;01mfrom\u001b[39;00m \u001b[38;5;21;01m.\u001b[39;00m \u001b[38;5;28;01mimport\u001b[39;00m fmt\n\u001b[0;32m----> 3\u001b[0m \u001b[38;5;28;01mfrom\u001b[39;00m \u001b[38;5;21;01m.\u001b[39;00m \u001b[38;5;28;01mimport\u001b[39;00m plots\n\u001b[1;32m      4\u001b[0m \u001b[38;5;28;01mfrom\u001b[39;00m \u001b[38;5;21;01m.\u001b[39;00m \u001b[38;5;28;01mimport\u001b[39;00m stats\n\u001b[1;32m      5\u001b[0m \u001b[38;5;28;01mfrom\u001b[39;00m \u001b[38;5;21;01m.\u001b[39;00m \u001b[38;5;28;01mimport\u001b[39;00m storage\n",
      "\u001b[0;31mImportError\u001b[0m: cannot import name 'plots' from partially initialized module 'phdu' (most likely due to a circular import) (/home/jorgemedina/anaconda3/envs/latest/lib/python3.10/site-packages/phdu/__init__.py)"
     ]
    }
   ],
   "source": [
    "import numpy as np\n",
    "from phdu import resample\n",
    "from phdu.stats import plots"
   ]
  },
  {
   "cell_type": "code",
   "execution_count": null,
   "id": "ca47a560",
   "metadata": {},
   "outputs": [],
   "source": [
    "np.random.seed(0)\n",
    "X = np.random.exponential(scale=1, size=200)\n",
    "plots.density_kernel(X, width=600, height=300, font_size=22, xaxis_title=\"X\", ticksize=23, cov_factor=0.2) "
   ]
  },
  {
   "cell_type": "code",
   "execution_count": null,
   "id": "755d7109",
   "metadata": {},
   "outputs": [],
   "source": [
    "plots.qqplot(X) # skewed to the right"
   ]
  },
  {
   "cell_type": "code",
   "execution_count": null,
   "id": "6fcad574",
   "metadata": {},
   "outputs": [],
   "source": [
    "# The distribution of X is skewed. \n",
    "# We obtain the confidence interval for the mean using Bootstrap T\n",
    "CI = resample.CI_bootstrap(X, alpha=0.05, alternative=\"two-sided\", return_stats=False)\n",
    "print(\"Sample mean: {:.3f} \\nCI:{}\".format(X.mean(), list(CI.round(3))))"
   ]
  },
  {
   "cell_type": "code",
   "execution_count": null,
   "id": "bc8922ba",
   "metadata": {},
   "outputs": [],
   "source": [
    "CI_centered = CI - X.mean()\n",
    "symmetric_tail_size = np.abs(CI_centered).sum() / 2\n",
    "assymetry = (CI_centered[1] - symmetric_tail_size) / symmetric_tail_size\n",
    "assymetry # the interval has a longer right tail to account for the skewness (aroud 10% in this case)"
   ]
  },
  {
   "cell_type": "code",
   "execution_count": null,
   "id": "e8dbe1d8",
   "metadata": {},
   "outputs": [],
   "source": [
    "# Or a one-tailed CI\n",
    "resample.CI_bootstrap(X, alpha=0.05, alternative=\"less\", return_stats=False)"
   ]
  },
  {
   "cell_type": "code",
   "execution_count": null,
   "id": "15f2740a",
   "metadata": {},
   "outputs": [],
   "source": [
    "# We can compare all intervals. Let's do it for the median (bootstrap is statistic-agnostic)\n",
    "import rpy2.robjects as ro\n",
    "bs = resample.bootstrap(X, \"bootstrapT\", stat=\"median\")\n",
    "methods = [\"t\", \"percentile\", \"bca\", \"bootstrapT\"]\n",
    "CI = {method: ro.r(f\"CI.{method}(bs, probs=c(0.025, 0.975))\")[0] for method in methods} # [0] because bootstrapT resamples also std\n",
    "np.median(X), CI"
   ]
  },
  {
   "cell_type": "code",
   "execution_count": null,
   "id": "2692664f",
   "metadata": {},
   "outputs": [],
   "source": [
    "# Notice bootstrapT correctly accounts for skewness."
   ]
  },
  {
   "cell_type": "markdown",
   "id": "d07a4e58",
   "metadata": {},
   "source": [
    "# Test"
   ]
  },
  {
   "cell_type": "code",
   "execution_count": null,
   "id": "1eabce58",
   "metadata": {},
   "outputs": [],
   "source": [
    "from phdu import permutation\n",
    "from phdu.stats import plots"
   ]
  },
  {
   "cell_type": "code",
   "execution_count": null,
   "id": "e1422465",
   "metadata": {},
   "outputs": [],
   "source": [
    "# We want to see if the mean of the second is greater than of the first\n",
    "X1 = np.random.chisquare(df=3, size=100) # mean = df\n",
    "X2 = np.random.chisquare(df=3.5, size=100)\n",
    "plots.density_kernel(X1, X2, width=600, height=300, font_size=22, xaxis_title=\"X\", ticksize=23, cov_factor=0.3) "
   ]
  },
  {
   "cell_type": "code",
   "execution_count": null,
   "id": "a057eed4",
   "metadata": {},
   "outputs": [],
   "source": [
    "permutation.permutation_test_2sample_mean(X1, X2, alternative=\"less\")"
   ]
  },
  {
   "cell_type": "code",
   "execution_count": null,
   "id": "74b06e59",
   "metadata": {},
   "outputs": [],
   "source": [
    "# Now paired (the same attribute measured for the same experimental units twice)\n",
    "X2_pair = X1 + np.random.normal(loc=0.2, scale=0.5, size=X1.size)\n",
    "permutation.permutation_test_2sample_paired_diffmean(X1, X2_pair, alternative=\"less\")"
   ]
  },
  {
   "cell_type": "code",
   "execution_count": null,
   "id": "1d6c1c47",
   "metadata": {},
   "outputs": [],
   "source": [
    "plots.density_kernel(X1 - X2_pair, width=600, height=300, font_size=22, xaxis_title=\"X\", ticksize=23, cov_factor=0.3)"
   ]
  }
 ],
 "metadata": {
  "kernelspec": {
   "display_name": "Python 3 (ipykernel)",
   "language": "python",
   "name": "python3"
  },
  "language_info": {
   "codemirror_mode": {
    "name": "ipython",
    "version": 3
   },
   "file_extension": ".py",
   "mimetype": "text/x-python",
   "name": "python",
   "nbconvert_exporter": "python",
   "pygments_lexer": "ipython3",
   "version": "3.10.4"
  },
  "toc": {
   "base_numbering": 1,
   "nav_menu": {},
   "number_sections": true,
   "sideBar": true,
   "skip_h1_title": false,
   "title_cell": "Table of Contents",
   "title_sidebar": "Contents",
   "toc_cell": false,
   "toc_position": {},
   "toc_section_display": true,
   "toc_window_display": false
  }
 },
 "nbformat": 4,
 "nbformat_minor": 5
}
