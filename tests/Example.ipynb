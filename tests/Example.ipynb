{
 "cells": [
  {
   "cell_type": "code",
   "execution_count": null,
   "id": "11934dd6",
   "metadata": {},
   "outputs": [],
   "source": [
    "%pip install -i https://test.pypi.org/simple/ phdu -U"
   ]
  },
  {
   "cell_type": "code",
   "execution_count": 5,
   "id": "983b0dac",
   "metadata": {},
   "outputs": [
    {
     "name": "stdout",
     "output_type": "stream",
     "text": [
      "Found existing installation: phdu 1.0.7\n",
      "Uninstalling phdu-1.0.7:\n",
      "  Successfully uninstalled phdu-1.0.7\n",
      "Note: you may need to restart the kernel to use updated packages.\n"
     ]
    }
   ],
   "source": [
    "pip uninstall phdu -y"
   ]
  },
  {
   "cell_type": "code",
   "execution_count": 9,
   "id": "e533bd87",
   "metadata": {},
   "outputs": [],
   "source": [
    "from setuptools import find_packages"
   ]
  },
  {
   "cell_type": "code",
   "execution_count": 11,
   "id": "507dfe87",
   "metadata": {},
   "outputs": [
    {
     "data": {
      "text/plain": [
       "['phdu', 'phdu.stats', 'phdu.plots', 'phdu.stats.test', 'phdu.stats.rtopy']"
      ]
     },
     "execution_count": 11,
     "metadata": {},
     "output_type": "execute_result"
    }
   ],
   "source": [
    "find_packages(\"..\")"
   ]
  },
  {
   "cell_type": "code",
   "execution_count": 10,
   "id": "c10a1f1e",
   "metadata": {},
   "outputs": [
    {
     "data": {
      "text/plain": [
       "['stats', 'plots', 'stats.test', 'stats.rtopy']"
      ]
     },
     "execution_count": 10,
     "metadata": {},
     "output_type": "execute_result"
    }
   ],
   "source": [
    "find_packages(\"../phdu\")"
   ]
  },
  {
   "cell_type": "code",
   "execution_count": 6,
   "id": "9216ac49",
   "metadata": {},
   "outputs": [],
   "source": [
    "import sys\n",
    "sys.path.append(\"..\")"
   ]
  },
  {
   "cell_type": "markdown",
   "id": "d5c105c0",
   "metadata": {},
   "source": [
    "# Proyect structure"
   ]
  },
  {
   "cell_type": "markdown",
   "id": "4231932f",
   "metadata": {},
   "source": [
    "Check the tidypath examples:\n",
    "- [Defining functions](https://github.com/medinajorge/tidypath/blob/master/tests/analysis/variable1/measurement1.py)\n",
    "- [Calling functions & modifying args](https://github.com/medinajorge/tidypath/blob/master/tests/Example.ipynb)"
   ]
  },
  {
   "cell_type": "code",
   "execution_count": 7,
   "id": "a5b2a18a",
   "metadata": {},
   "outputs": [],
   "source": [
    "from phdu import savedata, savefig, add_arg, modify_arg, delete_arg"
   ]
  },
  {
   "cell_type": "markdown",
   "id": "b6e7ef01",
   "metadata": {},
   "source": [
    "# Confidence interval"
   ]
  },
  {
   "cell_type": "code",
   "execution_count": 8,
   "id": "224a77a1",
   "metadata": {},
   "outputs": [],
   "source": [
    "import numpy as np\n",
    "from phdu import resample\n",
    "from phdu.stats import plots"
   ]
  },
  {
   "cell_type": "code",
   "execution_count": null,
   "id": "ca47a560",
   "metadata": {},
   "outputs": [],
   "source": [
    "np.random.seed(0)\n",
    "X = np.random.exponential(scale=1, size=200)\n",
    "plots.density_kernel(X, width=600, height=300, font_size=22, xaxis_title=\"X\", ticksize=23, cov_factor=0.2) "
   ]
  },
  {
   "cell_type": "code",
   "execution_count": null,
   "id": "755d7109",
   "metadata": {},
   "outputs": [],
   "source": [
    "plots.qqplot(X) # skewed to the right"
   ]
  },
  {
   "cell_type": "code",
   "execution_count": null,
   "id": "6fcad574",
   "metadata": {},
   "outputs": [],
   "source": [
    "# The distribution of X is skewed. \n",
    "# We obtain the confidence interval for the mean using Bootstrap T\n",
    "CI = resample.CI_bootstrap(X, alpha=0.05, alternative=\"two-sided\", return_stats=False)\n",
    "print(\"Sample mean: {:.3f} \\nCI:{}\".format(X.mean(), list(CI.round(3))))"
   ]
  },
  {
   "cell_type": "code",
   "execution_count": null,
   "id": "bc8922ba",
   "metadata": {},
   "outputs": [],
   "source": [
    "CI_centered = CI - X.mean()\n",
    "symmetric_tail_size = np.abs(CI_centered).sum() / 2\n",
    "assymetry = (CI_centered[1] - symmetric_tail_size) / symmetric_tail_size\n",
    "assymetry # the interval has a longer right tail to account for the skewness (aroud 10% in this case)"
   ]
  },
  {
   "cell_type": "code",
   "execution_count": null,
   "id": "e8dbe1d8",
   "metadata": {},
   "outputs": [],
   "source": [
    "# Or a one-tailed CI\n",
    "resample.CI_bootstrap(X, alpha=0.05, alternative=\"less\", return_stats=False)"
   ]
  },
  {
   "cell_type": "code",
   "execution_count": null,
   "id": "15f2740a",
   "metadata": {},
   "outputs": [],
   "source": [
    "# We can compare all intervals. Let's do it for the median (bootstrap is statistic-agnostic)\n",
    "import rpy2.robjects as ro\n",
    "bs = resample.bootstrap(X, \"bootstrapT\", stat=\"median\")\n",
    "methods = [\"t\", \"percentile\", \"bca\", \"bootstrapT\"]\n",
    "CI = {method: ro.r(f\"CI.{method}(bs, probs=c(0.025, 0.975))\")[0] for method in methods} # [0] because bootstrapT resamples also std\n",
    "np.median(X), CI"
   ]
  },
  {
   "cell_type": "code",
   "execution_count": null,
   "id": "2692664f",
   "metadata": {},
   "outputs": [],
   "source": [
    "# Notice bootstrapT correctly accounts for skewness."
   ]
  },
  {
   "cell_type": "markdown",
   "id": "d07a4e58",
   "metadata": {},
   "source": [
    "# Test"
   ]
  },
  {
   "cell_type": "code",
   "execution_count": null,
   "id": "1eabce58",
   "metadata": {},
   "outputs": [],
   "source": [
    "from phdu import permutation\n",
    "from phdu.stats import plots"
   ]
  },
  {
   "cell_type": "code",
   "execution_count": null,
   "id": "e1422465",
   "metadata": {},
   "outputs": [],
   "source": [
    "# We want to see if the mean of the second is greater than of the first\n",
    "X1 = np.random.chisquare(df=3, size=100) # mean = df\n",
    "X2 = np.random.chisquare(df=3.5, size=100)\n",
    "plots.density_kernel(X1, X2, width=600, height=300, font_size=22, xaxis_title=\"X\", ticksize=23, cov_factor=0.3) "
   ]
  },
  {
   "cell_type": "code",
   "execution_count": null,
   "id": "a057eed4",
   "metadata": {},
   "outputs": [],
   "source": [
    "permutation.permutation_test_2sample_mean(X1, X2, alternative=\"less\")"
   ]
  },
  {
   "cell_type": "code",
   "execution_count": null,
   "id": "74b06e59",
   "metadata": {},
   "outputs": [],
   "source": [
    "# Now paired (the same attribute measured for the same experimental units twice)\n",
    "X2_pair = X1 + np.random.normal(loc=0.2, scale=0.5, size=X1.size)\n",
    "permutation.permutation_test_2sample_paired_diffmean(X1, X2_pair, alternative=\"less\")"
   ]
  },
  {
   "cell_type": "code",
   "execution_count": null,
   "id": "1d6c1c47",
   "metadata": {},
   "outputs": [],
   "source": [
    "plots.density_kernel(X1 - X2_pair, width=600, height=300, font_size=22, xaxis_title=\"X\", ticksize=23, cov_factor=0.3)"
   ]
  }
 ],
 "metadata": {
  "kernelspec": {
   "display_name": "Python 3 (ipykernel)",
   "language": "python",
   "name": "python3"
  },
  "language_info": {
   "codemirror_mode": {
    "name": "ipython",
    "version": 3
   },
   "file_extension": ".py",
   "mimetype": "text/x-python",
   "name": "python",
   "nbconvert_exporter": "python",
   "pygments_lexer": "ipython3",
   "version": "3.10.4"
  },
  "toc": {
   "base_numbering": 1,
   "nav_menu": {},
   "number_sections": true,
   "sideBar": true,
   "skip_h1_title": false,
   "title_cell": "Table of Contents",
   "title_sidebar": "Contents",
   "toc_cell": false,
   "toc_position": {},
   "toc_section_display": true,
   "toc_window_display": false
  }
 },
 "nbformat": 4,
 "nbformat_minor": 5
}
